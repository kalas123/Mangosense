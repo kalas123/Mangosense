import os
import io
import base64
import json
import threading
import time
from datetime import datetime

import torch
import torch.nn as nn
import torch.nn.functional as F
import torchvision.transforms as transforms
import torchvision.models as models
import timm

from PIL import Image
import numpy as np
import cv2
import matplotlib.pyplot as plt
import seaborn as sns
from rembg import remove

from flask import Flask, request, jsonify
from flask_cors import CORS
from pyngrok import ngrok

# XAI imports
from pytorch_grad_cam import GradCAM
from pytorch_grad_cam.utils.model_targets import ClassifierOutputTarget
from pytorch_grad_cam.utils.image import show_cam_on_image
from captum.attr import IntegratedGradients, Occlusion, LayerGradCam
from lime import lime_image
from lime.wrappers.scikit_image import SegmentationAlgorithm

print("All packages imported successfully!")
print(f"CUDA available: {torch.cuda.is_available()}")
print(f"Device: {torch.cuda.get_device_name(0) if torch.cuda.is_available() else 'CPU'}")# Install required packages
!pip install flask flask-cors pyngrok
!pip install rembg torch torchvision
!pip install grad-cam captum lime timm
!pip install pillow opencv-python matplotlib seaborn
!pip install scikit-learn numpy pandas# Mango Disease Classification - Colab Inference Server

This notebook sets up a GPU-powered inference server for:
- Background removal
- Disease classification  
- Explainability analysis (GradCAM, LIME, etc.)

**Instructions:**
1. Run all cells in order
2. Copy the ngrok URL from the last cell
3. Use this URL as your COLAB_API_URL in your web app