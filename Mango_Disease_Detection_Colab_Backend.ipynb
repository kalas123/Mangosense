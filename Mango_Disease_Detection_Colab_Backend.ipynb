# Install required packages
!pip install -q flask pyngrok
!pip install -q rembg[gpu]
!pip install -q grad-cam captum lime
!pip install -q opencv-python-headless

print("✅ Packages installed successfully!")# 🥭 Mango Leaf Disease Detection - GPU Backend Service

This notebook provides GPU-powered inference, explainability, and background removal for the Mango Leaf Disease Detection web app.

## 🚀 Features
- **Background Removal**: Remove image backgrounds using AI
- **Disease Detection**: GPU-accelerated inference with multiple models
- **Explainability**: GradCAM heatmaps showing AI focus areas
- **Treatment Recommendations**: Expert advice for detected diseases
- **Public API**: Connect from any web app via ngrok

## 📋 Setup Instructions
1. Run all cells in order
2. Upload your trained models
3. Get the ngrok public URL
4. Use the URL in your local Flask app

---